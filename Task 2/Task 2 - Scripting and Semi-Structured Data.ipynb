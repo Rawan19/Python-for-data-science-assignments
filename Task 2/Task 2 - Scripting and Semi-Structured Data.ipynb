{
 "cells": [
  {
   "cell_type": "markdown",
   "metadata": {},
   "source": [
    "### Problem Descripition \n",
    "\n",
    "In 2012, URL shortening service Bitly partnered with the US government website USA.gov to provide a feed of anonymous data gathered from users who shorten links ending with .gov or .mil.\n",
    "\n",
    "The text file comes in JSON format and here are some keys and their description. They are only the most important ones for this task."
   ]
  },
  {
   "cell_type": "markdown",
   "metadata": {},
   "source": [
    "|key| description |\n",
    "|---|-----------|\n",
    "| a|Denotes information about the web browser and operating system|\n",
    "| tz | time zone |\n",
    "| r | URL the user come from |\n",
    "| u | URL where the user headed to |\n",
    "| t | Timestamp when the user start using the website in UNIX format |\n",
    "| hc | Timestamp when user exit the website in UNIX format |\n",
    "| cy | City from which the request intiated |\n",
    "| ll | Longitude and Latitude |"
   ]
  },
  {
   "cell_type": "markdown",
   "metadata": {},
   "source": [
    "In the cell, I tried to provide some helper code for better understanding and clearer vision\n",
    "\n",
    "-**HINT**- Those lines of code may be not helping at all with your task."
   ]
  },
  {
   "cell_type": "code",
   "execution_count": 85,
   "metadata": {},
   "outputs": [
    {
     "data": {
      "text/plain": [
       "list"
      ]
     },
     "execution_count": 85,
     "metadata": {},
     "output_type": "execute_result"
    }
   ],
   "source": [
    "# I will try to retrieve one instance of the file in a list of dictionaries\n",
    "import json\n",
    "import pandas as pd\n",
    "from pandas.io.json import json_normalize\n",
    "f = open('usa.gov_click_data.json')\n",
    "records = [json.loads(line) for line in f]\n",
    "# Print the first occurance\n",
    "type(records)"
   ]
  },
  {
   "cell_type": "code",
   "execution_count": 42,
   "metadata": {},
   "outputs": [
    {
     "data": {
      "text/plain": [
       "list"
      ]
     },
     "execution_count": 42,
     "metadata": {},
     "output_type": "execute_result"
    }
   ],
   "source": [
    "#json.loads (and json.load) does not decode multiple json object.\n",
    "#dicts_list = json.loads(json.dumps([records], indent=4)) #dumps converts dict to json string then loads: # To convert the JSON to dict\n",
    "#list of dicts\n",
    "#type(dicts_list)"
   ]
  },
  {
   "cell_type": "code",
   "execution_count": 44,
   "metadata": {},
   "outputs": [
    {
     "data": {
      "text/plain": [
       "{'a': 'Mozilla/5.0 (Windows NT 6.1; WOW64) AppleWebKit/535.11 (KHTML, like Gecko) Chrome/17.0.963.78 Safari/535.11',\n",
       " 'c': 'US',\n",
       " 'nk': 1,\n",
       " 'tz': 'America/New_York',\n",
       " 'gr': 'MA',\n",
       " 'g': 'A6qOVH',\n",
       " 'h': 'wfLQtf',\n",
       " 'l': 'orofrog',\n",
       " 'al': 'en-US,en;q=0.8',\n",
       " 'hh': '1.usa.gov',\n",
       " 'r': 'http://www.facebook.com/l/7AQEFzjSi/1.usa.gov/wfLQtf',\n",
       " 'u': 'http://www.ncbi.nlm.nih.gov/pubmed/22415991',\n",
       " 't': 1331923247,\n",
       " 'hc': 1331822918,\n",
       " 'cy': 'Danvers',\n",
       " 'll': [42.576698, -70.954903]}"
      ]
     },
     "execution_count": 44,
     "metadata": {},
     "output_type": "execute_result"
    }
   ],
   "source": [
    "#dicts_list[0][0]"
   ]
  },
  {
   "cell_type": "markdown",
   "metadata": {},
   "source": [
    "## Required"
   ]
  },
  {
   "cell_type": "markdown",
   "metadata": {},
   "source": [
    "Write a script can transform the JSON files to a DataFrame and commit each file to a sparete CSV file in the target directory and consider the following:\n",
    "\n",
    "        "
   ]
  },
  {
   "cell_type": "markdown",
   "metadata": {},
   "source": [
    "All CSV files must have the following columns\n",
    "- web_browser\n",
    "        The web browser that has requested the service\n",
    "- operating_sys\n",
    "        operating system that intiated this request\n",
    "- from_url\n",
    "\n",
    "        The main URL the user came from\n",
    "\n",
    "    **note**:\n",
    "\n",
    "    If the retrived URL was in a long format `http://www.facebook.com/l/7AQEFzjSi/1.usa.gov/wfLQtf`\n",
    "\n",
    "     make it appear in the file in a short format like this `www.facebook.com`\n",
    "     \n",
    "    \n",
    "- to_url\n",
    "\n",
    "       The same applied like `to_url`\n",
    "   \n",
    "- city\n",
    "\n",
    "        The city from which the the request was sent\n",
    "    \n",
    "- longitude\n",
    "\n",
    "        The longitude where the request was sent\n",
    "- latitude\n",
    "\n",
    "        The latitude where the request was sent\n",
    "\n",
    "- time_zone\n",
    "        \n",
    "        The time zone that the city follow\n",
    "        \n",
    "- time_in\n",
    "\n",
    "        Time when the request started\n",
    "- time_out\n",
    "        \n",
    "        Time when the request is ended\n",
    "        \n",
    "        \n",
    "**NOTE** :\n",
    "\n",
    "Because that some instances of the file are incomplete, you may encouter some NaN values in your transforamtion. Make sure that the final dataframes have no NaNs at all."
   ]
  },
  {
   "cell_type": "code",
   "execution_count": 290,
   "metadata": {},
   "outputs": [],
   "source": [
    "list_of_dicts_values = {'Script': records}\n",
    "#list_of_dicts_values['Script']"
   ]
  },
  {
   "cell_type": "code",
   "execution_count": 269,
   "metadata": {},
   "outputs": [
    {
     "name": "stderr",
     "output_type": "stream",
     "text": [
      "<ipython-input-269-2c4e01933da1>:5: FutureWarning: pandas.io.json.json_normalize is deprecated, use pandas.json_normalize instead\n",
      "  df_data = json_normalize(list_of_dicts_values['Script'])\n"
     ]
    }
   ],
   "source": [
    "#json.dumps([dict1, dict2])\n",
    "\n",
    "    #json.load() :: retrieve the file in a dict format\n",
    "    #values must be a list of dictionaries?\n",
    "df_data = json_normalize(list_of_dicts_values['Script'])\n",
    "#drop unnecessary columns\n",
    "#df_movies.drop('metascore', axis=1, inplace=True)\n",
    "df_data.drop(['c', 'nk','gr', 'g','h', 'al', 'hh', '_heartbeat_', 'kw', 'l'], axis=1, inplace=True)"
   ]
  },
  {
   "cell_type": "code",
   "execution_count": 291,
   "metadata": {},
   "outputs": [
    {
     "data": {
      "text/html": [
       "<div>\n",
       "<style scoped>\n",
       "    .dataframe tbody tr th:only-of-type {\n",
       "        vertical-align: middle;\n",
       "    }\n",
       "\n",
       "    .dataframe tbody tr th {\n",
       "        vertical-align: top;\n",
       "    }\n",
       "\n",
       "    .dataframe thead th {\n",
       "        text-align: right;\n",
       "    }\n",
       "</style>\n",
       "<table border=\"1\" class=\"dataframe\">\n",
       "  <thead>\n",
       "    <tr style=\"text-align: right;\">\n",
       "      <th></th>\n",
       "      <th>index</th>\n",
       "      <th>web_browser</th>\n",
       "      <th>time_zone</th>\n",
       "      <th>from_url</th>\n",
       "      <th>to_url</th>\n",
       "      <th>time_in</th>\n",
       "      <th>time_out</th>\n",
       "      <th>city</th>\n",
       "      <th>longitude</th>\n",
       "      <th>operating_sys</th>\n",
       "      <th>latitude</th>\n",
       "    </tr>\n",
       "  </thead>\n",
       "  <tbody>\n",
       "    <tr>\n",
       "      <th>0</th>\n",
       "      <td>0</td>\n",
       "      <td>Mozilla/5.0</td>\n",
       "      <td>America/New_York</td>\n",
       "      <td>http://www.facebook.com/l/7AQEFzjSi/1.usa.gov/...</td>\n",
       "      <td>http://www.ncbi.nlm.nih.gov/pubmed/22415991</td>\n",
       "      <td>1.331923e+09</td>\n",
       "      <td>1.331823e+09</td>\n",
       "      <td>Danvers</td>\n",
       "      <td>42.5767</td>\n",
       "      <td>(Windows NT 6.1; WOW64) AppleWebKit/535.11 (KH...</td>\n",
       "      <td>-70.9549</td>\n",
       "    </tr>\n",
       "    <tr>\n",
       "      <th>1</th>\n",
       "      <td>1</td>\n",
       "      <td>GoogleMaps/RochesterNY</td>\n",
       "      <td>America/Denver</td>\n",
       "      <td>http://www.AwareMap.com/</td>\n",
       "      <td>http://www.monroecounty.gov/etc/911/rss.php</td>\n",
       "      <td>1.331923e+09</td>\n",
       "      <td>1.308262e+09</td>\n",
       "      <td>Provo</td>\n",
       "      <td>40.2181</td>\n",
       "      <td></td>\n",
       "      <td>-111.613</td>\n",
       "    </tr>\n",
       "    <tr>\n",
       "      <th>2</th>\n",
       "      <td>2</td>\n",
       "      <td>Mozilla/4.0</td>\n",
       "      <td>America/New_York</td>\n",
       "      <td>http://t.co/03elZC4Q</td>\n",
       "      <td>http://boxer.senate.gov/en/press/releases/0316...</td>\n",
       "      <td>1.331923e+09</td>\n",
       "      <td>1.331920e+09</td>\n",
       "      <td>Washington</td>\n",
       "      <td>38.9007</td>\n",
       "      <td>(Windows NT 6.1; MSIE 8.0; Windows NT 6.1; WOW...</td>\n",
       "      <td>-77.0431</td>\n",
       "    </tr>\n",
       "    <tr>\n",
       "      <th>3</th>\n",
       "      <td>3</td>\n",
       "      <td>Mozilla/5.0</td>\n",
       "      <td>America/Sao_Paulo</td>\n",
       "      <td>direct</td>\n",
       "      <td>http://apod.nasa.gov/apod/ap120312.html</td>\n",
       "      <td>1.331923e+09</td>\n",
       "      <td>1.331923e+09</td>\n",
       "      <td>Braz</td>\n",
       "      <td>-23.55</td>\n",
       "      <td>(Macintosh; Intel Mac OS X 10_6_8) AppleWebKit...</td>\n",
       "      <td>-46.6167</td>\n",
       "    </tr>\n",
       "    <tr>\n",
       "      <th>4</th>\n",
       "      <td>4</td>\n",
       "      <td>Mozilla/5.0</td>\n",
       "      <td>America/New_York</td>\n",
       "      <td>http://www.shrewsbury-ma.gov/selco/</td>\n",
       "      <td>http://www.shrewsbury-ma.gov/egov/gallery/1341...</td>\n",
       "      <td>1.331923e+09</td>\n",
       "      <td>1.273672e+09</td>\n",
       "      <td>Shrewsbury</td>\n",
       "      <td>42.2865</td>\n",
       "      <td>(Windows NT 6.1; WOW64) AppleWebKit/535.11 (KH...</td>\n",
       "      <td>-71.7147</td>\n",
       "    </tr>\n",
       "  </tbody>\n",
       "</table>\n",
       "</div>"
      ],
      "text/plain": [
       "   index             web_browser          time_zone  \\\n",
       "0      0            Mozilla/5.0    America/New_York   \n",
       "1      1  GoogleMaps/RochesterNY     America/Denver   \n",
       "2      2            Mozilla/4.0    America/New_York   \n",
       "3      3            Mozilla/5.0   America/Sao_Paulo   \n",
       "4      4            Mozilla/5.0    America/New_York   \n",
       "\n",
       "                                            from_url  \\\n",
       "0  http://www.facebook.com/l/7AQEFzjSi/1.usa.gov/...   \n",
       "1                           http://www.AwareMap.com/   \n",
       "2                               http://t.co/03elZC4Q   \n",
       "3                                             direct   \n",
       "4                http://www.shrewsbury-ma.gov/selco/   \n",
       "\n",
       "                                              to_url       time_in  \\\n",
       "0        http://www.ncbi.nlm.nih.gov/pubmed/22415991  1.331923e+09   \n",
       "1        http://www.monroecounty.gov/etc/911/rss.php  1.331923e+09   \n",
       "2  http://boxer.senate.gov/en/press/releases/0316...  1.331923e+09   \n",
       "3            http://apod.nasa.gov/apod/ap120312.html  1.331923e+09   \n",
       "4  http://www.shrewsbury-ma.gov/egov/gallery/1341...  1.331923e+09   \n",
       "\n",
       "       time_out        city longitude  \\\n",
       "0  1.331823e+09     Danvers   42.5767   \n",
       "1  1.308262e+09       Provo   40.2181   \n",
       "2  1.331920e+09  Washington   38.9007   \n",
       "3  1.331923e+09        Braz    -23.55   \n",
       "4  1.273672e+09  Shrewsbury   42.2865   \n",
       "\n",
       "                                       operating_sys latitude  \n",
       "0  (Windows NT 6.1; WOW64) AppleWebKit/535.11 (KH... -70.9549  \n",
       "1                                                    -111.613  \n",
       "2  (Windows NT 6.1; MSIE 8.0; Windows NT 6.1; WOW... -77.0431  \n",
       "3  (Macintosh; Intel Mac OS X 10_6_8) AppleWebKit... -46.6167  \n",
       "4  (Windows NT 6.1; WOW64) AppleWebKit/535.11 (KH... -71.7147  "
      ]
     },
     "execution_count": 291,
     "metadata": {},
     "output_type": "execute_result"
    }
   ],
   "source": [
    "df_data.head()"
   ]
  },
  {
   "cell_type": "code",
   "execution_count": 272,
   "metadata": {},
   "outputs": [],
   "source": [
    "def split_browser(string):\n",
    "  #  print (type(string))\n",
    "    #some objects are saved as floats\n",
    "    string = str(string)\n",
    "    browser=[]\n",
    "    os=[]\n",
    "    parenth=False\n",
    "    for item in string:\n",
    "        if(item!='(' and parenth==False):\n",
    "            browser.append(item)\n",
    "        else:\n",
    "            parenth=True\n",
    "            os.append(item)\n",
    "            #returns a list\n",
    "    return [''.join(browser), ''.join(os)]"
   ]
  },
  {
   "cell_type": "code",
   "execution_count": 273,
   "metadata": {},
   "outputs": [],
   "source": [
    "#split_browser(df_data['a'][2])\n",
    "df_data['a']= df_data['a'].apply(split_browser)\n",
    "#type(x)"
   ]
  },
  {
   "cell_type": "code",
   "execution_count": 274,
   "metadata": {},
   "outputs": [],
   "source": [
    "#new column\n",
    "df_data['operating_sys']= ''"
   ]
  },
  {
   "cell_type": "code",
   "execution_count": 275,
   "metadata": {},
   "outputs": [
    {
     "name": "stderr",
     "output_type": "stream",
     "text": [
      "<ipython-input-275-e615dd314ce6>:3: SettingWithCopyWarning: \n",
      "A value is trying to be set on a copy of a slice from a DataFrame\n",
      "\n",
      "See the caveats in the documentation: https://pandas.pydata.org/pandas-docs/stable/user_guide/indexing.html#returning-a-view-versus-a-copy\n",
      "  df_data['operating_sys'][i] = row[1]\n"
     ]
    }
   ],
   "source": [
    "i=0\n",
    "for row in df_data['a']:\n",
    "    df_data['operating_sys'][i] = row[1]\n",
    "    i+=1"
   ]
  },
  {
   "cell_type": "code",
   "execution_count": 276,
   "metadata": {},
   "outputs": [
    {
     "data": {
      "text/plain": [
       "'(Windows NT 6.1; WOW64) AppleWebKit/535.11 (KHTML, like Gecko) Chrome/17.0.963.78 Safari/535.11'"
      ]
     },
     "execution_count": 276,
     "metadata": {},
     "output_type": "execute_result"
    }
   ],
   "source": [
    "df_data['a'][0][1]"
   ]
  },
  {
   "cell_type": "code",
   "execution_count": 277,
   "metadata": {},
   "outputs": [
    {
     "name": "stderr",
     "output_type": "stream",
     "text": [
      "<ipython-input-277-1d76d4748e87>:3: SettingWithCopyWarning: \n",
      "A value is trying to be set on a copy of a slice from a DataFrame\n",
      "\n",
      "See the caveats in the documentation: https://pandas.pydata.org/pandas-docs/stable/user_guide/indexing.html#returning-a-view-versus-a-copy\n",
      "  df_data['a'][i] = row[0]\n"
     ]
    }
   ],
   "source": [
    "i=0\n",
    "for row in df_data['a']:\n",
    "    df_data['a'][i] = row[0]\n",
    "    i+=1"
   ]
  },
  {
   "cell_type": "code",
   "execution_count": 280,
   "metadata": {},
   "outputs": [
    {
     "data": {
      "text/plain": [
       "a                  0\n",
       "tz               120\n",
       "r                120\n",
       "u                120\n",
       "t                120\n",
       "hc               120\n",
       "cy               641\n",
       "ll               641\n",
       "operating_sys      0\n",
       "dtype: int64"
      ]
     },
     "execution_count": 280,
     "metadata": {},
     "output_type": "execute_result"
    }
   ],
   "source": [
    "df_data.isnull().sum()"
   ]
  },
  {
   "cell_type": "code",
   "execution_count": 281,
   "metadata": {},
   "outputs": [],
   "source": [
    "df_data.dropna(axis=0, inplace=True)"
   ]
  },
  {
   "cell_type": "code",
   "execution_count": null,
   "metadata": {},
   "outputs": [],
   "source": [
    "df_data.reset_index(inplace = True)\n",
    "#df_data.head(10)"
   ]
  },
  {
   "cell_type": "code",
   "execution_count": 284,
   "metadata": {},
   "outputs": [
    {
     "data": {
      "text/plain": [
       "[42.576698, -70.954903]"
      ]
     },
     "execution_count": 284,
     "metadata": {},
     "output_type": "execute_result"
    }
   ],
   "source": [
    "df_data['ll'][0]"
   ]
  },
  {
   "cell_type": "code",
   "execution_count": 285,
   "metadata": {},
   "outputs": [
    {
     "name": "stderr",
     "output_type": "stream",
     "text": [
      "<ipython-input-285-7d0534da76fb>:4: SettingWithCopyWarning: \n",
      "A value is trying to be set on a copy of a slice from a DataFrame\n",
      "\n",
      "See the caveats in the documentation: https://pandas.pydata.org/pandas-docs/stable/user_guide/indexing.html#returning-a-view-versus-a-copy\n",
      "  df_data['latitude'][i] = row[1]\n"
     ]
    }
   ],
   "source": [
    "df_data['latitude']=''\n",
    "i=0\n",
    "for row in df_data['ll']:\n",
    "    df_data['latitude'][i] = row[1]\n",
    "    i+=1"
   ]
  },
  {
   "cell_type": "code",
   "execution_count": 286,
   "metadata": {},
   "outputs": [
    {
     "name": "stderr",
     "output_type": "stream",
     "text": [
      "<ipython-input-286-48b4b6f6adc6>:3: SettingWithCopyWarning: \n",
      "A value is trying to be set on a copy of a slice from a DataFrame\n",
      "\n",
      "See the caveats in the documentation: https://pandas.pydata.org/pandas-docs/stable/user_guide/indexing.html#returning-a-view-versus-a-copy\n",
      "  df_data['ll'][i] = row[0]\n"
     ]
    }
   ],
   "source": [
    "i=0\n",
    "for row in df_data['ll']:\n",
    "    df_data['ll'][i] = row[0]\n",
    "    i+=1"
   ]
  },
  {
   "cell_type": "code",
   "execution_count": 287,
   "metadata": {},
   "outputs": [
    {
     "data": {
      "text/html": [
       "<div>\n",
       "<style scoped>\n",
       "    .dataframe tbody tr th:only-of-type {\n",
       "        vertical-align: middle;\n",
       "    }\n",
       "\n",
       "    .dataframe tbody tr th {\n",
       "        vertical-align: top;\n",
       "    }\n",
       "\n",
       "    .dataframe thead th {\n",
       "        text-align: right;\n",
       "    }\n",
       "</style>\n",
       "<table border=\"1\" class=\"dataframe\">\n",
       "  <thead>\n",
       "    <tr style=\"text-align: right;\">\n",
       "      <th></th>\n",
       "      <th>index</th>\n",
       "      <th>a</th>\n",
       "      <th>tz</th>\n",
       "      <th>r</th>\n",
       "      <th>u</th>\n",
       "      <th>t</th>\n",
       "      <th>hc</th>\n",
       "      <th>cy</th>\n",
       "      <th>ll</th>\n",
       "      <th>operating_sys</th>\n",
       "      <th>latitude</th>\n",
       "    </tr>\n",
       "  </thead>\n",
       "  <tbody>\n",
       "    <tr>\n",
       "      <th>0</th>\n",
       "      <td>0</td>\n",
       "      <td>Mozilla/5.0</td>\n",
       "      <td>America/New_York</td>\n",
       "      <td>http://www.facebook.com/l/7AQEFzjSi/1.usa.gov/...</td>\n",
       "      <td>http://www.ncbi.nlm.nih.gov/pubmed/22415991</td>\n",
       "      <td>1.331923e+09</td>\n",
       "      <td>1.331823e+09</td>\n",
       "      <td>Danvers</td>\n",
       "      <td>42.5767</td>\n",
       "      <td>(Windows NT 6.1; WOW64) AppleWebKit/535.11 (KH...</td>\n",
       "      <td>-70.9549</td>\n",
       "    </tr>\n",
       "    <tr>\n",
       "      <th>1</th>\n",
       "      <td>1</td>\n",
       "      <td>GoogleMaps/RochesterNY</td>\n",
       "      <td>America/Denver</td>\n",
       "      <td>http://www.AwareMap.com/</td>\n",
       "      <td>http://www.monroecounty.gov/etc/911/rss.php</td>\n",
       "      <td>1.331923e+09</td>\n",
       "      <td>1.308262e+09</td>\n",
       "      <td>Provo</td>\n",
       "      <td>40.2181</td>\n",
       "      <td></td>\n",
       "      <td>-111.613</td>\n",
       "    </tr>\n",
       "    <tr>\n",
       "      <th>2</th>\n",
       "      <td>2</td>\n",
       "      <td>Mozilla/4.0</td>\n",
       "      <td>America/New_York</td>\n",
       "      <td>http://t.co/03elZC4Q</td>\n",
       "      <td>http://boxer.senate.gov/en/press/releases/0316...</td>\n",
       "      <td>1.331923e+09</td>\n",
       "      <td>1.331920e+09</td>\n",
       "      <td>Washington</td>\n",
       "      <td>38.9007</td>\n",
       "      <td>(Windows NT 6.1; MSIE 8.0; Windows NT 6.1; WOW...</td>\n",
       "      <td>-77.0431</td>\n",
       "    </tr>\n",
       "    <tr>\n",
       "      <th>3</th>\n",
       "      <td>3</td>\n",
       "      <td>Mozilla/5.0</td>\n",
       "      <td>America/Sao_Paulo</td>\n",
       "      <td>direct</td>\n",
       "      <td>http://apod.nasa.gov/apod/ap120312.html</td>\n",
       "      <td>1.331923e+09</td>\n",
       "      <td>1.331923e+09</td>\n",
       "      <td>Braz</td>\n",
       "      <td>-23.55</td>\n",
       "      <td>(Macintosh; Intel Mac OS X 10_6_8) AppleWebKit...</td>\n",
       "      <td>-46.6167</td>\n",
       "    </tr>\n",
       "    <tr>\n",
       "      <th>4</th>\n",
       "      <td>4</td>\n",
       "      <td>Mozilla/5.0</td>\n",
       "      <td>America/New_York</td>\n",
       "      <td>http://www.shrewsbury-ma.gov/selco/</td>\n",
       "      <td>http://www.shrewsbury-ma.gov/egov/gallery/1341...</td>\n",
       "      <td>1.331923e+09</td>\n",
       "      <td>1.273672e+09</td>\n",
       "      <td>Shrewsbury</td>\n",
       "      <td>42.2865</td>\n",
       "      <td>(Windows NT 6.1; WOW64) AppleWebKit/535.11 (KH...</td>\n",
       "      <td>-71.7147</td>\n",
       "    </tr>\n",
       "  </tbody>\n",
       "</table>\n",
       "</div>"
      ],
      "text/plain": [
       "   index                       a                 tz  \\\n",
       "0      0            Mozilla/5.0    America/New_York   \n",
       "1      1  GoogleMaps/RochesterNY     America/Denver   \n",
       "2      2            Mozilla/4.0    America/New_York   \n",
       "3      3            Mozilla/5.0   America/Sao_Paulo   \n",
       "4      4            Mozilla/5.0    America/New_York   \n",
       "\n",
       "                                                   r  \\\n",
       "0  http://www.facebook.com/l/7AQEFzjSi/1.usa.gov/...   \n",
       "1                           http://www.AwareMap.com/   \n",
       "2                               http://t.co/03elZC4Q   \n",
       "3                                             direct   \n",
       "4                http://www.shrewsbury-ma.gov/selco/   \n",
       "\n",
       "                                                   u             t  \\\n",
       "0        http://www.ncbi.nlm.nih.gov/pubmed/22415991  1.331923e+09   \n",
       "1        http://www.monroecounty.gov/etc/911/rss.php  1.331923e+09   \n",
       "2  http://boxer.senate.gov/en/press/releases/0316...  1.331923e+09   \n",
       "3            http://apod.nasa.gov/apod/ap120312.html  1.331923e+09   \n",
       "4  http://www.shrewsbury-ma.gov/egov/gallery/1341...  1.331923e+09   \n",
       "\n",
       "             hc          cy       ll  \\\n",
       "0  1.331823e+09     Danvers  42.5767   \n",
       "1  1.308262e+09       Provo  40.2181   \n",
       "2  1.331920e+09  Washington  38.9007   \n",
       "3  1.331923e+09        Braz   -23.55   \n",
       "4  1.273672e+09  Shrewsbury  42.2865   \n",
       "\n",
       "                                       operating_sys latitude  \n",
       "0  (Windows NT 6.1; WOW64) AppleWebKit/535.11 (KH... -70.9549  \n",
       "1                                                    -111.613  \n",
       "2  (Windows NT 6.1; MSIE 8.0; Windows NT 6.1; WOW... -77.0431  \n",
       "3  (Macintosh; Intel Mac OS X 10_6_8) AppleWebKit... -46.6167  \n",
       "4  (Windows NT 6.1; WOW64) AppleWebKit/535.11 (KH... -71.7147  "
      ]
     },
     "execution_count": 287,
     "metadata": {},
     "output_type": "execute_result"
    }
   ],
   "source": [
    "df_data.head()"
   ]
  },
  {
   "cell_type": "code",
   "execution_count": 288,
   "metadata": {},
   "outputs": [],
   "source": [
    "#rename columns\n",
    "df_data.rename(columns = {'a': 'web_browser', 'tz': 'time_zone', 'r': 'from_url', 'u': 'to_url', 't': 'time_in', 'hc': 'time_out', \n",
    "                         'cy': 'city', 'll': 'longitude'}, inplace=True)"
   ]
  },
  {
   "cell_type": "code",
   "execution_count": 289,
   "metadata": {},
   "outputs": [
    {
     "name": "stdout",
     "output_type": "stream",
     "text": [
      "<class 'pandas.core.frame.DataFrame'>\n",
      "RangeIndex: 2919 entries, 0 to 2918\n",
      "Data columns (total 11 columns):\n",
      " #   Column         Non-Null Count  Dtype  \n",
      "---  ------         --------------  -----  \n",
      " 0   index          2919 non-null   int64  \n",
      " 1   web_browser    2919 non-null   object \n",
      " 2   time_zone      2919 non-null   object \n",
      " 3   from_url       2919 non-null   object \n",
      " 4   to_url         2919 non-null   object \n",
      " 5   time_in        2919 non-null   float64\n",
      " 6   time_out       2919 non-null   float64\n",
      " 7   city           2919 non-null   object \n",
      " 8   longitude      2919 non-null   object \n",
      " 9   operating_sys  2919 non-null   object \n",
      " 10  latitude       2919 non-null   object \n",
      "dtypes: float64(2), int64(1), object(8)\n",
      "memory usage: 251.0+ KB\n"
     ]
    }
   ],
   "source": [
    "df_data.info()"
   ]
  },
  {
   "cell_type": "code",
   "execution_count": 298,
   "metadata": {},
   "outputs": [],
   "source": [
    "df_data.drop('index', axis=1, inplace=True)"
   ]
  },
  {
   "cell_type": "code",
   "execution_count": 300,
   "metadata": {},
   "outputs": [
    {
     "data": {
      "text/html": [
       "<div>\n",
       "<style scoped>\n",
       "    .dataframe tbody tr th:only-of-type {\n",
       "        vertical-align: middle;\n",
       "    }\n",
       "\n",
       "    .dataframe tbody tr th {\n",
       "        vertical-align: top;\n",
       "    }\n",
       "\n",
       "    .dataframe thead th {\n",
       "        text-align: right;\n",
       "    }\n",
       "</style>\n",
       "<table border=\"1\" class=\"dataframe\">\n",
       "  <thead>\n",
       "    <tr style=\"text-align: right;\">\n",
       "      <th></th>\n",
       "      <th>web_browser</th>\n",
       "      <th>time_zone</th>\n",
       "      <th>from_url</th>\n",
       "      <th>to_url</th>\n",
       "      <th>time_in</th>\n",
       "      <th>time_out</th>\n",
       "      <th>city</th>\n",
       "      <th>longitude</th>\n",
       "      <th>operating_sys</th>\n",
       "      <th>latitude</th>\n",
       "    </tr>\n",
       "  </thead>\n",
       "  <tbody>\n",
       "    <tr>\n",
       "      <th>0</th>\n",
       "      <td>Mozilla/5.0</td>\n",
       "      <td>America/New_York</td>\n",
       "      <td>http://www.facebook.com/l/7AQEFzjSi/1.usa.gov/...</td>\n",
       "      <td>http://www.ncbi.nlm.nih.gov/pubmed/22415991</td>\n",
       "      <td>1.331923e+09</td>\n",
       "      <td>1.331823e+09</td>\n",
       "      <td>Danvers</td>\n",
       "      <td>42.5767</td>\n",
       "      <td>(Windows NT 6.1; WOW64) AppleWebKit/535.11 (KH...</td>\n",
       "      <td>-70.9549</td>\n",
       "    </tr>\n",
       "    <tr>\n",
       "      <th>1</th>\n",
       "      <td>GoogleMaps/RochesterNY</td>\n",
       "      <td>America/Denver</td>\n",
       "      <td>http://www.AwareMap.com/</td>\n",
       "      <td>http://www.monroecounty.gov/etc/911/rss.php</td>\n",
       "      <td>1.331923e+09</td>\n",
       "      <td>1.308262e+09</td>\n",
       "      <td>Provo</td>\n",
       "      <td>40.2181</td>\n",
       "      <td></td>\n",
       "      <td>-111.613</td>\n",
       "    </tr>\n",
       "    <tr>\n",
       "      <th>2</th>\n",
       "      <td>Mozilla/4.0</td>\n",
       "      <td>America/New_York</td>\n",
       "      <td>http://t.co/03elZC4Q</td>\n",
       "      <td>http://boxer.senate.gov/en/press/releases/0316...</td>\n",
       "      <td>1.331923e+09</td>\n",
       "      <td>1.331920e+09</td>\n",
       "      <td>Washington</td>\n",
       "      <td>38.9007</td>\n",
       "      <td>(Windows NT 6.1; MSIE 8.0; Windows NT 6.1; WOW...</td>\n",
       "      <td>-77.0431</td>\n",
       "    </tr>\n",
       "    <tr>\n",
       "      <th>3</th>\n",
       "      <td>Mozilla/5.0</td>\n",
       "      <td>America/Sao_Paulo</td>\n",
       "      <td>direct</td>\n",
       "      <td>http://apod.nasa.gov/apod/ap120312.html</td>\n",
       "      <td>1.331923e+09</td>\n",
       "      <td>1.331923e+09</td>\n",
       "      <td>Braz</td>\n",
       "      <td>-23.55</td>\n",
       "      <td>(Macintosh; Intel Mac OS X 10_6_8) AppleWebKit...</td>\n",
       "      <td>-46.6167</td>\n",
       "    </tr>\n",
       "    <tr>\n",
       "      <th>4</th>\n",
       "      <td>Mozilla/5.0</td>\n",
       "      <td>America/New_York</td>\n",
       "      <td>http://www.shrewsbury-ma.gov/selco/</td>\n",
       "      <td>http://www.shrewsbury-ma.gov/egov/gallery/1341...</td>\n",
       "      <td>1.331923e+09</td>\n",
       "      <td>1.273672e+09</td>\n",
       "      <td>Shrewsbury</td>\n",
       "      <td>42.2865</td>\n",
       "      <td>(Windows NT 6.1; WOW64) AppleWebKit/535.11 (KH...</td>\n",
       "      <td>-71.7147</td>\n",
       "    </tr>\n",
       "    <tr>\n",
       "      <th>5</th>\n",
       "      <td>Mozilla/5.0</td>\n",
       "      <td>America/New_York</td>\n",
       "      <td>http://www.shrewsbury-ma.gov/selco/</td>\n",
       "      <td>http://www.shrewsbury-ma.gov/egov/gallery/1341...</td>\n",
       "      <td>1.331923e+09</td>\n",
       "      <td>1.273673e+09</td>\n",
       "      <td>Shrewsbury</td>\n",
       "      <td>42.2865</td>\n",
       "      <td>(Windows NT 6.1; WOW64) AppleWebKit/535.11 (KH...</td>\n",
       "      <td>-71.7147</td>\n",
       "    </tr>\n",
       "    <tr>\n",
       "      <th>6</th>\n",
       "      <td>Mozilla/5.0</td>\n",
       "      <td>Europe/Warsaw</td>\n",
       "      <td>http://plus.url.google.com/url?sa=z&amp;n=13319232...</td>\n",
       "      <td>http://www.nasa.gov/mission_pages/nustar/main/...</td>\n",
       "      <td>1.331923e+09</td>\n",
       "      <td>1.331923e+09</td>\n",
       "      <td>Luban</td>\n",
       "      <td>51.1167</td>\n",
       "      <td>(Windows NT 5.1) AppleWebKit/535.11 (KHTML, li...</td>\n",
       "      <td>15.2833</td>\n",
       "    </tr>\n",
       "    <tr>\n",
       "      <th>7</th>\n",
       "      <td>Mozilla/5.0</td>\n",
       "      <td>America/Los_Angeles</td>\n",
       "      <td>direct</td>\n",
       "      <td>https://www.nysdot.gov/rexdesign/design/commun...</td>\n",
       "      <td>1.331923e+09</td>\n",
       "      <td>1.319564e+09</td>\n",
       "      <td>Seattle</td>\n",
       "      <td>47.5951</td>\n",
       "      <td>(Windows NT 6.1; WOW64; rv:10.0.2) Gecko/20100...</td>\n",
       "      <td>-122.333</td>\n",
       "    </tr>\n",
       "    <tr>\n",
       "      <th>8</th>\n",
       "      <td>Mozilla/5.0</td>\n",
       "      <td>America/New_York</td>\n",
       "      <td>http://t.co/ND7SoPyo</td>\n",
       "      <td>http://oversight.house.gov/wp-content/uploads/...</td>\n",
       "      <td>1.331923e+09</td>\n",
       "      <td>1.331816e+09</td>\n",
       "      <td>Washington</td>\n",
       "      <td>38.9376</td>\n",
       "      <td>(Macintosh; U; Intel Mac OS X 10.4; en-US; rv:...</td>\n",
       "      <td>-77.0928</td>\n",
       "    </tr>\n",
       "    <tr>\n",
       "      <th>9</th>\n",
       "      <td>Mozilla/5.0</td>\n",
       "      <td>America/New_York</td>\n",
       "      <td>direct</td>\n",
       "      <td>https://www.nysdot.gov/rexdesign/design/commun...</td>\n",
       "      <td>1.331923e+09</td>\n",
       "      <td>1.319564e+09</td>\n",
       "      <td>Alexandria</td>\n",
       "      <td>38.7909</td>\n",
       "      <td>(Windows NT 6.1; WOW64; rv:10.0.2) Gecko/20100...</td>\n",
       "      <td>-77.0947</td>\n",
       "    </tr>\n",
       "  </tbody>\n",
       "</table>\n",
       "</div>"
      ],
      "text/plain": [
       "              web_browser            time_zone  \\\n",
       "0            Mozilla/5.0      America/New_York   \n",
       "1  GoogleMaps/RochesterNY       America/Denver   \n",
       "2            Mozilla/4.0      America/New_York   \n",
       "3            Mozilla/5.0     America/Sao_Paulo   \n",
       "4            Mozilla/5.0      America/New_York   \n",
       "5            Mozilla/5.0      America/New_York   \n",
       "6            Mozilla/5.0         Europe/Warsaw   \n",
       "7            Mozilla/5.0   America/Los_Angeles   \n",
       "8            Mozilla/5.0      America/New_York   \n",
       "9            Mozilla/5.0      America/New_York   \n",
       "\n",
       "                                            from_url  \\\n",
       "0  http://www.facebook.com/l/7AQEFzjSi/1.usa.gov/...   \n",
       "1                           http://www.AwareMap.com/   \n",
       "2                               http://t.co/03elZC4Q   \n",
       "3                                             direct   \n",
       "4                http://www.shrewsbury-ma.gov/selco/   \n",
       "5                http://www.shrewsbury-ma.gov/selco/   \n",
       "6  http://plus.url.google.com/url?sa=z&n=13319232...   \n",
       "7                                             direct   \n",
       "8                               http://t.co/ND7SoPyo   \n",
       "9                                             direct   \n",
       "\n",
       "                                              to_url       time_in  \\\n",
       "0        http://www.ncbi.nlm.nih.gov/pubmed/22415991  1.331923e+09   \n",
       "1        http://www.monroecounty.gov/etc/911/rss.php  1.331923e+09   \n",
       "2  http://boxer.senate.gov/en/press/releases/0316...  1.331923e+09   \n",
       "3            http://apod.nasa.gov/apod/ap120312.html  1.331923e+09   \n",
       "4  http://www.shrewsbury-ma.gov/egov/gallery/1341...  1.331923e+09   \n",
       "5  http://www.shrewsbury-ma.gov/egov/gallery/1341...  1.331923e+09   \n",
       "6  http://www.nasa.gov/mission_pages/nustar/main/...  1.331923e+09   \n",
       "7  https://www.nysdot.gov/rexdesign/design/commun...  1.331923e+09   \n",
       "8  http://oversight.house.gov/wp-content/uploads/...  1.331923e+09   \n",
       "9  https://www.nysdot.gov/rexdesign/design/commun...  1.331923e+09   \n",
       "\n",
       "       time_out        city longitude  \\\n",
       "0  1.331823e+09     Danvers   42.5767   \n",
       "1  1.308262e+09       Provo   40.2181   \n",
       "2  1.331920e+09  Washington   38.9007   \n",
       "3  1.331923e+09        Braz    -23.55   \n",
       "4  1.273672e+09  Shrewsbury   42.2865   \n",
       "5  1.273673e+09  Shrewsbury   42.2865   \n",
       "6  1.331923e+09       Luban   51.1167   \n",
       "7  1.319564e+09     Seattle   47.5951   \n",
       "8  1.331816e+09  Washington   38.9376   \n",
       "9  1.319564e+09  Alexandria   38.7909   \n",
       "\n",
       "                                       operating_sys latitude  \n",
       "0  (Windows NT 6.1; WOW64) AppleWebKit/535.11 (KH... -70.9549  \n",
       "1                                                    -111.613  \n",
       "2  (Windows NT 6.1; MSIE 8.0; Windows NT 6.1; WOW... -77.0431  \n",
       "3  (Macintosh; Intel Mac OS X 10_6_8) AppleWebKit... -46.6167  \n",
       "4  (Windows NT 6.1; WOW64) AppleWebKit/535.11 (KH... -71.7147  \n",
       "5  (Windows NT 6.1; WOW64) AppleWebKit/535.11 (KH... -71.7147  \n",
       "6  (Windows NT 5.1) AppleWebKit/535.11 (KHTML, li...  15.2833  \n",
       "7  (Windows NT 6.1; WOW64; rv:10.0.2) Gecko/20100... -122.333  \n",
       "8  (Macintosh; U; Intel Mac OS X 10.4; en-US; rv:... -77.0928  \n",
       "9  (Windows NT 6.1; WOW64; rv:10.0.2) Gecko/20100... -77.0947  "
      ]
     },
     "execution_count": 300,
     "metadata": {},
     "output_type": "execute_result"
    }
   ],
   "source": [
    "df_data.head(10)"
   ]
  },
  {
   "cell_type": "code",
   "execution_count": 301,
   "metadata": {},
   "outputs": [],
   "source": [
    "df_data.to_csv('usa_gov__check_data.csv')"
   ]
  }
 ],
 "metadata": {
  "kernelspec": {
   "display_name": "Python 3",
   "language": "python",
   "name": "python3"
  },
  "language_info": {
   "codemirror_mode": {
    "name": "ipython",
    "version": 3
   },
   "file_extension": ".py",
   "mimetype": "text/x-python",
   "name": "python",
   "nbconvert_exporter": "python",
   "pygments_lexer": "ipython3",
   "version": "3.8.5"
  }
 },
 "nbformat": 4,
 "nbformat_minor": 2
}
